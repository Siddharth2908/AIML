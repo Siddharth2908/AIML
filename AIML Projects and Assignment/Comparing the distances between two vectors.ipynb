{
 "cells": [
  {
   "cell_type": "code",
   "execution_count": 13,
   "metadata": {
    "collapsed": true
   },
   "outputs": [],
   "source": [
    "import scipy.spatial as scipy\n",
    "import seaborn as sns\n",
    "%matplotlib inline"
   ]
  },
  {
   "cell_type": "markdown",
   "metadata": {},
   "source": [
    "1. Y1 = scipy.spatial.distance.cdist(tr, fr, 'euclidean')\n",
    "2. Y2 = scipy.spatial.distance.cdist(tr, fr, 'minkowski', p = 26)\n",
    "3. Y3 = scipy.spatial.distance.cdist(tr, fr, 'seuclidean', V = None)\n",
    "4. Y4 = scipy.spatial.distance.cdist(tr, fr, 'sqeuclidean')\n",
    "5. Y5 = scipy.spatial.distance.cdist(tr, fr, 'cosine')\n",
    "6. Y6 = scipy.spatial.distance.cdist(tr, fr, 'correlation')\n",
    "7. Y7 = scipy.spatial.distance.cdist(tr, fr, 'hamming')\n",
    "8. Y8 = scipy.spatial.distance.cdist(tr, fr, 'cityblock')"
   ]
  },
  {
   "cell_type": "code",
   "execution_count": 3,
   "metadata": {
    "collapsed": true
   },
   "outputs": [],
   "source": [
    "tr = [[3,5]]"
   ]
  },
  {
   "cell_type": "code",
   "execution_count": 4,
   "metadata": {
    "collapsed": true
   },
   "outputs": [],
   "source": [
    "fr = [[7,5]]"
   ]
  },
  {
   "cell_type": "code",
   "execution_count": 10,
   "metadata": {},
   "outputs": [],
   "source": [
    "Y1 = scipy.distance.cdist(tr, fr, 'canberra')"
   ]
  },
  {
   "cell_type": "code",
   "execution_count": 11,
   "metadata": {},
   "outputs": [
    {
     "data": {
      "text/plain": [
       "array([[0.4]])"
      ]
     },
     "execution_count": 11,
     "metadata": {},
     "output_type": "execute_result"
    }
   ],
   "source": [
    "Y1"
   ]
  },
  {
   "cell_type": "code",
   "execution_count": null,
   "metadata": {
    "collapsed": true
   },
   "outputs": [],
   "source": []
  }
 ],
 "metadata": {
  "kernelspec": {
   "display_name": "Python 3",
   "language": "python",
   "name": "python3"
  },
  "language_info": {
   "codemirror_mode": {
    "name": "ipython",
    "version": 3
   },
   "file_extension": ".py",
   "mimetype": "text/x-python",
   "name": "python",
   "nbconvert_exporter": "python",
   "pygments_lexer": "ipython3",
   "version": "3.6.1"
  }
 },
 "nbformat": 4,
 "nbformat_minor": 2
}
